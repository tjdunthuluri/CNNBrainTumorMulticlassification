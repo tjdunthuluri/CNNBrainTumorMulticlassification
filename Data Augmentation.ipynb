{
 "cells": [
  {
   "cell_type": "code",
   "execution_count": 8,
   "metadata": {},
   "outputs": [],
   "source": [
    "import tensorflow as tf # main enviornment\n",
    "from tensorflow import keras\n",
    "from tensorflow.keras.preprocessing.image import ImageDataGenerator , img_to_array, load_img\n",
    "from os import listdir ## Path to directory\n",
    "import cv2 # for processing the images\n",
    "import time # get how length of training and processing"
   ]
  },
  {
   "cell_type": "code",
   "execution_count": 37,
   "metadata": {},
   "outputs": [],
   "source": [
    "aug_no_path = 'C:\\\\Users\\Home\\\\ CAPS project\\\\Augmented\\\\aug_no'"
   ]
  },
  {
   "cell_type": "code",
   "execution_count": 9,
   "metadata": {},
   "outputs": [],
   "source": [
    "train_path = 'C:\\\\Users\\\\Home\\\\ CAPS project\\\\Training'\n",
    "test_path = 'C:\\\\Users\\\\Home\\\\ CAPS project\\\\Testing'"
   ]
  },
  {
   "cell_type": "code",
   "execution_count": 22,
   "metadata": {},
   "outputs": [],
   "source": [
    "#def data_augmentation(file_dir , n_samples, new_dir):\n",
    "\n",
    "\"\"\"\n",
    "file_directory - represents the path where images are\n",
    "n_samlples - number of samples for each image\n",
    "new_dir - Where the new augmented images will be saved\n",
    "\"\"\"\n",
    "#use ImageDataGenerator to generate the new images by adjusting filters\n",
    "data_gen = ImageDataGenerator(rotation_range = 15, width_shift_range = 10,\n",
    "            height_shift_range = .1 ,shear_range= .1, horizontal_flip = True, \n",
    "            vertical_flip = True, fill_mode = 'nearest')\n",
    "\n",
    "#for file in listdir(file_dir):\n",
    "    #img = cv2.imread(file_dir +'\\\\' file)\n",
    "img= load_img('C:\\\\Users\\Home\\\\ CAPS project\\\\Training\\\\no_tumor\\\\1.jpg') \n",
    "\n",
    "x_g = img_to_array(img)# convert to numpy array\n",
    "x_g = x_g.reshape((1,)+ x_g.shape)## shape of (1,3,150,150)\n",
    "\n",
    "\n",
    "i = 0\n",
    "for batch in data_gen.flow(x_g, batch_size=1, save_to_dir = aug_no_path , save_prefix = 'g', save_format = 'jpg'):\n",
    "    ## Generating more images\n",
    "    i+=1\n",
    "    if i > 3:\n",
    "        break\n",
    "        \n",
    "        ### this is an example for a sigle picture being augmented\n",
    "\n"
   ]
  },
  {
   "cell_type": "code",
   "execution_count": null,
   "metadata": {},
   "outputs": [],
   "source": []
  },
  {
   "cell_type": "code",
   "execution_count": 35,
   "metadata": {},
   "outputs": [],
   "source": [
    "import numpy as np"
   ]
  },
  {
   "cell_type": "code",
   "execution_count": 43,
   "metadata": {},
   "outputs": [],
   "source": [
    "## to loop the data use the same structure except import os\n",
    "import os # get from directory\n",
    "from skimage import io\n",
    "from PIL import Image\n",
    "datagen = ImageDataGenerator(rescale = 1/255, rotation_range = 15, width_shift_range = 10,\n",
    "            height_shift_range = .1 ,shear_range= .1, horizontal_flip = True, \n",
    "            vertical_fl = True, fill_mode = 'nearest')\n",
    "img_dir = 'C:\\\\Users\\Home\\\\ CAPS project\\\\Training\\\\no_tumor\\\\'\n",
    "size = 240\n",
    "dataset = []\n",
    "\n",
    "n_images = os.listdir(img_dir)\n",
    "for i, img_name in enumerate(n_images):\n",
    "    if (img_name.split('.')[1] == 'jpg'):\n",
    "        nimage = io.imread(img_dir + img_name)\n",
    "        nimage = Image.fromarray(nimage)\n",
    "        nimage = nimage.resize((size,size))\n",
    "        dataset.append(np.array(nimage))\n",
    "\n",
    "x = np.array(dataset)\n",
    "\n",
    "for batch in datagen.flow(x, batch_size= 395, save_to_dir = aug_no_path , save_prefix = 'no', save_format = 'jpg'):\n",
    "    ## Generating more images\n",
    "    i+=1\n",
    "    if i > 20:\n",
    "        break"
   ]
  },
  {
   "cell_type": "code",
   "execution_count": 59,
   "metadata": {},
   "outputs": [
    {
     "data": {
      "text/plain": [
       "array([[[6, 6, 6],\n",
       "        [6, 6, 6],\n",
       "        [6, 6, 6],\n",
       "        ...,\n",
       "        [6, 6, 6],\n",
       "        [6, 6, 6],\n",
       "        [6, 6, 6]],\n",
       "\n",
       "       [[6, 6, 6],\n",
       "        [6, 6, 6],\n",
       "        [6, 6, 6],\n",
       "        ...,\n",
       "        [6, 6, 6],\n",
       "        [6, 6, 6],\n",
       "        [6, 6, 6]],\n",
       "\n",
       "       [[6, 6, 6],\n",
       "        [6, 6, 6],\n",
       "        [6, 6, 6],\n",
       "        ...,\n",
       "        [6, 6, 6],\n",
       "        [6, 6, 6],\n",
       "        [6, 6, 6]],\n",
       "\n",
       "       ...,\n",
       "\n",
       "       [[6, 6, 6],\n",
       "        [6, 6, 6],\n",
       "        [6, 6, 6],\n",
       "        ...,\n",
       "        [6, 6, 6],\n",
       "        [6, 6, 6],\n",
       "        [6, 6, 6]],\n",
       "\n",
       "       [[6, 6, 6],\n",
       "        [6, 6, 6],\n",
       "        [6, 6, 6],\n",
       "        ...,\n",
       "        [6, 6, 6],\n",
       "        [6, 6, 6],\n",
       "        [6, 6, 6]],\n",
       "\n",
       "       [[6, 6, 6],\n",
       "        [6, 6, 6],\n",
       "        [6, 6, 6],\n",
       "        ...,\n",
       "        [6, 6, 6],\n",
       "        [6, 6, 6],\n",
       "        [6, 6, 6]]], dtype=uint8)"
      ]
     },
     "execution_count": 59,
     "metadata": {},
     "output_type": "execute_result"
    }
   ],
   "source": [
    "dataset[2] ## Array of values"
   ]
  },
  {
   "cell_type": "code",
   "execution_count": 77,
   "metadata": {},
   "outputs": [
    {
     "ename": "SyntaxError",
     "evalue": "invalid syntax (<ipython-input-77-0a3a76e86baf>, line 4)",
     "output_type": "error",
     "traceback": [
      "\u001b[1;36m  File \u001b[1;32m\"<ipython-input-77-0a3a76e86baf>\"\u001b[1;36m, line \u001b[1;32m4\u001b[0m\n\u001b[1;33m    dst str(count) + \"gg\"+  + \".jpg\"\u001b[0m\n\u001b[1;37m          ^\u001b[0m\n\u001b[1;31mSyntaxError\u001b[0m\u001b[1;31m:\u001b[0m invalid syntax\n"
     ]
    }
   ],
   "source": [
    "def main(): \n",
    "    path_dir = 'C:\\\\Users\\\\Home\\\\ CAPS project\\\\Augmented\\\\aug_glioma'\n",
    "    for count, image in enumerate(os.listdir(pathm)): \n",
    "        dst  + \"gg\"+ str(count) + \".jpg\"\n",
    "        src = image\n",
    "        \n",
    "          \n",
    "        # rename() funcn will \n",
    "        # rename all the files \n",
    "        os.rename(src, dst) \n",
    "  \n",
    " \n",
    "if __name__ == '__main__': \n",
    "      \n",
    "    # Calling main() function \n",
    "    main() "
   ]
  },
  {
   "cell_type": "code",
   "execution_count": 86,
   "metadata": {},
   "outputs": [],
   "source": [
    "path_dir = 'C:\\\\Users\\\\Home\\\\ CAPS project\\\\Augmented\\\\aug_glioma'"
   ]
  },
  {
   "cell_type": "code",
   "execution_count": 87,
   "metadata": {},
   "outputs": [
    {
     "ename": "FileNotFoundError",
     "evalue": "[WinError 3] The system cannot find the path specified: 'path_dir'",
     "output_type": "error",
     "traceback": [
      "\u001b[1;31m---------------------------------------------------------------------------\u001b[0m",
      "\u001b[1;31mFileNotFoundError\u001b[0m                         Traceback (most recent call last)",
      "\u001b[1;32m<ipython-input-87-9ffaed827c1f>\u001b[0m in \u001b[0;36m<module>\u001b[1;34m\u001b[0m\n\u001b[1;32m----> 1\u001b[1;33m \u001b[0mall_files\u001b[0m \u001b[1;33m=\u001b[0m \u001b[0mos\u001b[0m\u001b[1;33m.\u001b[0m\u001b[0mlistdir\u001b[0m\u001b[1;33m(\u001b[0m\u001b[1;34m'path_dir'\u001b[0m\u001b[1;33m)\u001b[0m\u001b[1;33m\u001b[0m\u001b[1;33m\u001b[0m\u001b[0m\n\u001b[0m\u001b[0;32m      2\u001b[0m \u001b[0mcnt\u001b[0m \u001b[1;33m=\u001b[0m \u001b[1;36m0\u001b[0m\u001b[1;33m\u001b[0m\u001b[1;33m\u001b[0m\u001b[0m\n\u001b[0;32m      3\u001b[0m \u001b[1;32mfor\u001b[0m \u001b[0mimages\u001b[0m \u001b[1;32min\u001b[0m \u001b[0mall_files\u001b[0m\u001b[1;33m:\u001b[0m\u001b[1;33m\u001b[0m\u001b[1;33m\u001b[0m\u001b[0m\n\u001b[0;32m      4\u001b[0m     \u001b[0mnew_name\u001b[0m \u001b[1;33m=\u001b[0m \u001b[0mos\u001b[0m\u001b[1;33m.\u001b[0m\u001b[0mpath\u001b[0m\u001b[1;33m.\u001b[0m\u001b[0mjoin\u001b[0m\u001b[1;33m(\u001b[0m\u001b[0mpath_dir\u001b[0m\u001b[1;33m,\u001b[0m \u001b[0mstr\u001b[0m\u001b[1;33m(\u001b[0m\u001b[0mcnt\u001b[0m\u001b[1;33m)\u001b[0m \u001b[1;33m+\u001b[0m \u001b[1;34m'g'\u001b[0m\u001b[1;33m+\u001b[0m\u001b[1;34m'.jpg'\u001b[0m\u001b[1;33m)\u001b[0m\u001b[1;33m\u001b[0m\u001b[1;33m\u001b[0m\u001b[0m\n\u001b[0;32m      5\u001b[0m \u001b[1;33m\u001b[0m\u001b[0m\n",
      "\u001b[1;31mFileNotFoundError\u001b[0m: [WinError 3] The system cannot find the path specified: 'path_dir'"
     ]
    }
   ],
   "source": [
    "all_files = os.listdir('path_dir')\n",
    "cnt = 0\n",
    "for images in all_files:\n",
    "    new_name = os.path.join(path_dir, str(cnt) + 'g'+'.jpg')\n",
    "    "
   ]
  },
  {
   "cell_type": "code",
   "execution_count": null,
   "metadata": {},
   "outputs": [],
   "source": []
  }
 ],
 "metadata": {
  "kernelspec": {
   "display_name": "Python 3",
   "language": "python",
   "name": "python3"
  },
  "language_info": {
   "codemirror_mode": {
    "name": "ipython",
    "version": 3
   },
   "file_extension": ".py",
   "mimetype": "text/x-python",
   "name": "python",
   "nbconvert_exporter": "python",
   "pygments_lexer": "ipython3",
   "version": "3.7.6"
  }
 },
 "nbformat": 4,
 "nbformat_minor": 4
}
